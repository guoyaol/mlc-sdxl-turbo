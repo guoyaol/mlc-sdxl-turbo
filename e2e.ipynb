{
 "cells": [
  {
   "cell_type": "code",
   "execution_count": 1,
   "metadata": {},
   "outputs": [
    {
     "name": "stderr",
     "output_type": "stream",
     "text": [
      "/Users/guoyaol/miniconda3/envs/sdxl/lib/python3.10/site-packages/tqdm/auto.py:21: TqdmWarning: IProgress not found. Please update jupyter and ipywidgets. See https://ipywidgets.readthedocs.io/en/stable/user_install.html\n",
      "  from .autonotebook import tqdm as notebook_tqdm\n"
     ]
    }
   ],
   "source": [
    "from diffusers import DiffusionPipeline\n",
    "import torch\n",
    "\n",
    "\n",
    "import tvm\n",
    "from tvm import relax\n",
    "from tvm.relax.frontend.torch import dynamo_capture_subgraphs\n",
    "from tvm.relax.frontend.torch import from_fx\n",
    "from tvm.script import relax as R\n",
    "\n",
    "import torch\n",
    "from torch import fx\n",
    "\n",
    "from web_stable_diffusion import utils\n",
    "from web_stable_diffusion import trace\n",
    "from web_stable_diffusion.utils import get_clip, get_unet"
   ]
  },
  {
   "cell_type": "markdown",
   "metadata": {},
   "source": [
    "# CLIP"
   ]
  },
  {
   "cell_type": "code",
   "execution_count": 2,
   "metadata": {},
   "outputs": [],
   "source": [
    "def clip_to_text_embeddings(pipe) -> tvm.IRModule:\n",
    "    # Define the wrapper torch.nn.Module for CLIP.\n",
    "    class CLIPModelWrapper(torch.nn.Module):\n",
    "        def __init__(self, clip):\n",
    "            super().__init__()\n",
    "            self.clip = clip\n",
    "\n",
    "        def forward(self, text_input_ids):\n",
    "            result = self.clip(text_input_ids, output_hidden_states=True)\n",
    "            text_embeddings = result.hidden_states[-2]\n",
    "            pool_text_embeddings = result[0]\n",
    "            return text_embeddings, pool_text_embeddings\n",
    "\n",
    "    clip = pipe.text_encoder\n",
    "    clip_to_text_embeddings = CLIPModelWrapper(clip)\n",
    "\n",
    "    # Create random input (77 is the maximum length).\n",
    "    text_input_ids = torch.rand((1, 77)).to(torch.int32)\n",
    "    # Capture CLIP's computational graph.\n",
    "    mod = dynamo_capture_subgraphs(\n",
    "        clip_to_text_embeddings.forward,\n",
    "        text_input_ids,\n",
    "        keep_params_as_input=True,\n",
    "    )\n",
    "    assert len(mod.functions) == 1\n",
    "\n",
    "    return tvm.IRModule({\"clip\": mod[\"subgraph_0\"]})"
   ]
  },
  {
   "cell_type": "markdown",
   "metadata": {},
   "source": [
    "# CLIP2"
   ]
  },
  {
   "cell_type": "code",
   "execution_count": 3,
   "metadata": {},
   "outputs": [],
   "source": [
    "def clip_to_text_embeddings2(pipe) -> tvm.IRModule:\n",
    "    # Define the wrapper torch.nn.Module for CLIP.\n",
    "    class CLIPModelWrapper(torch.nn.Module):\n",
    "        def __init__(self, clip):\n",
    "            super().__init__()\n",
    "            self.clip = clip\n",
    "\n",
    "        def forward(self, text_input_ids):\n",
    "            result = self.clip(text_input_ids, output_hidden_states=True)\n",
    "            text_embeddings = result.hidden_states[-2]\n",
    "            pool_text_embeddings = result.text_embeds\n",
    "            return text_embeddings, pool_text_embeddings\n",
    "\n",
    "\n",
    "    clip = get_clip(pipe)\n",
    "    clip_to_text_embeddings = CLIPModelWrapper(clip)\n",
    "\n",
    "\n",
    "\n",
    "    # Create random input (77 is the maximum length).\n",
    "    text_input_ids = torch.rand((1, 77)).to(torch.int32)\n",
    "    # Capture CLIP's computational graph.\n",
    "    mod = dynamo_capture_subgraphs(\n",
    "        clip_to_text_embeddings.forward,\n",
    "        text_input_ids,\n",
    "        keep_params_as_input=True,\n",
    "    )\n",
    "    assert len(mod.functions) == 1\n",
    "\n",
    "    return tvm.IRModule({\"clip2\": mod[\"subgraph_0\"]})"
   ]
  },
  {
   "cell_type": "markdown",
   "metadata": {},
   "source": [
    "# UNET"
   ]
  },
  {
   "cell_type": "code",
   "execution_count": 4,
   "metadata": {},
   "outputs": [],
   "source": [
    "def cat_latents() -> tvm.IRModule:\n",
    "    bb = relax.BlockBuilder()\n",
    "    latents = relax.Var(\"latents\", R.Tensor([1, 4, 128, 128], \"float32\"))\n",
    "\n",
    "    with bb.function(\"cat_latents\", [latents]):\n",
    "        res = bb.emit(\n",
    "            relax.op.concat([latents, latents], axis=0)\n",
    "        )\n",
    "        bb.emit_func_output(res)\n",
    "    return bb.get()"
   ]
  },
  {
   "cell_type": "code",
   "execution_count": 5,
   "metadata": {},
   "outputs": [],
   "source": [
    "def unet_latents_to_noise_pred(pipe, device_str: str) -> tvm.IRModule:\n",
    "    class UNetModelWrapper(torch.nn.Module):\n",
    "        def __init__(self, unet):\n",
    "            super().__init__()\n",
    "            self.unet = unet\n",
    "            # Default guidance scale factor in stable diffusion.\n",
    "            # self.guidance_scale = 0.0\n",
    "\n",
    "        def forward(self, latents, timestep_tensor, text_embeddings, added_cond_kwargs_text_embeds, added_cond_kwargs_text_time_ids):\n",
    "            # UNet forward.\n",
    "            noise_pred = self.unet(latents, timestep_tensor, text_embeddings, added_cond_kwargs_text_embeds, added_cond_kwargs_text_time_ids)\n",
    "            return noise_pred\n",
    "\n",
    "    unet = utils.get_unet(pipe, device_str)\n",
    "    unet_to_noise_pred = UNetModelWrapper(unet)\n",
    "    graph = fx.symbolic_trace(unet_to_noise_pred)\n",
    "    mod = from_fx(\n",
    "        graph,\n",
    "        [((1, 4, 64, 64), \"float32\"), ((), \"int32\"), ((1, 77, 2048), \"float32\"), \n",
    "         ((1, 1280), \"float32\"), ((1, 6), \"float32\")],\n",
    "        keep_params_as_input=True,\n",
    "    )\n",
    "    return tvm.IRModule({\"unet\": mod[\"main\"]})"
   ]
  },
  {
   "cell_type": "markdown",
   "metadata": {},
   "source": [
    "# VAE"
   ]
  },
  {
   "cell_type": "code",
   "execution_count": 6,
   "metadata": {},
   "outputs": [],
   "source": [
    "def vae_to_image(pipe) -> tvm.IRModule:\n",
    "    class VAEModelWrapper(torch.nn.Module):\n",
    "        def __init__(self, vae):\n",
    "            super().__init__()\n",
    "            self.vae = vae\n",
    "\n",
    "        def forward(self, latents):\n",
    "            # Scale the latents so that it can be decoded by VAE.\n",
    "            latents = 1 / 0.13025 * latents\n",
    "            # VAE decode\n",
    "            # z = self.vae.post_quant_conv(latents)\n",
    "            image = self.vae.decode(latents, return_dict=False)[0]\n",
    "            # Image normalization\n",
    "            image = (image / 2 + 0.5).clamp(min=0, max=1)\n",
    "            image = (image.permute(0, 2, 3, 1) * 255).round()\n",
    "            return image\n",
    "\n",
    "    vae = utils.get_vae(pipe)\n",
    "    vae_to_image = VAEModelWrapper(vae)\n",
    "\n",
    "    graph = fx.symbolic_trace(vae_to_image)\n",
    "    mod = from_fx(\n",
    "        graph,\n",
    "        [((1, 4, 64, 64), \"float32\")],\n",
    "        keep_params_as_input=True,\n",
    "    )\n",
    "    return tvm.IRModule({\"vae\": mod[\"main\"]})"
   ]
  },
  {
   "cell_type": "markdown",
   "metadata": {},
   "source": [
    "# Concat Embeddings"
   ]
  },
  {
   "cell_type": "code",
   "execution_count": 7,
   "metadata": {},
   "outputs": [],
   "source": [
    "def concat_embeddings() -> tvm.IRModule:\n",
    "    bb = relax.BlockBuilder()\n",
    "    cond_embeddings = relax.Var(\"cond_embeddings\", R.Tensor([1, 77, 2048], \"float32\"))\n",
    "    uncond_embeddings = relax.Var(\n",
    "        \"uncond_embeddings\", R.Tensor([1, 77, 2048], \"float32\")\n",
    "    )\n",
    "    with bb.function(\"concat_embeddings\", [cond_embeddings, uncond_embeddings]):\n",
    "        res = bb.emit(\n",
    "            relax.op.concat([cond_embeddings, uncond_embeddings], axis=0)\n",
    "        )\n",
    "        bb.emit_func_output(res)\n",
    "    return bb.get()"
   ]
  },
  {
   "cell_type": "code",
   "execution_count": 8,
   "metadata": {},
   "outputs": [],
   "source": [
    "def concat_enocder_outputs() -> tvm.IRModule:\n",
    "    bb = relax.BlockBuilder()\n",
    "    cond_embeddings = relax.Var(\"cond_embeddings\", R.Tensor([1, 77, 768], \"float32\"))\n",
    "    uncond_embeddings = relax.Var(\n",
    "        \"uncond_embeddings\", R.Tensor([1, 77, 1280], \"float32\")\n",
    "    )\n",
    "    with bb.function(\"concat_enocder_outputs\", [cond_embeddings, uncond_embeddings]):\n",
    "        res = bb.emit(\n",
    "            relax.op.concat([cond_embeddings, uncond_embeddings], axis=-1)\n",
    "        )\n",
    "        bb.emit_func_output(res)\n",
    "    return bb.get()"
   ]
  },
  {
   "cell_type": "code",
   "execution_count": 9,
   "metadata": {},
   "outputs": [],
   "source": [
    "def concat_pool_embeddings() -> tvm.IRModule:\n",
    "    bb = relax.BlockBuilder()\n",
    "    cond_embeddings = relax.Var(\"cond_embeddings\", R.Tensor([1, 1280], \"float32\"))\n",
    "    uncond_embeddings = relax.Var(\n",
    "        \"uncond_embeddings\", R.Tensor([1, 1280], \"float32\")\n",
    "    )\n",
    "    with bb.function(\"concat_pool_embeddings\", [cond_embeddings, uncond_embeddings]):\n",
    "        res = bb.emit(\n",
    "            relax.op.concat([cond_embeddings, uncond_embeddings], axis=0)\n",
    "        )\n",
    "        bb.emit_func_output(res)\n",
    "    return bb.get()"
   ]
  },
  {
   "cell_type": "markdown",
   "metadata": {},
   "source": [
    "# Image to rgba"
   ]
  },
  {
   "cell_type": "code",
   "execution_count": 10,
   "metadata": {},
   "outputs": [],
   "source": [
    "def image_to_rgba() -> tvm.IRModule:\n",
    "    from tvm import te\n",
    "\n",
    "    def f_image_to_rgba(A):\n",
    "        def fcompute(y, x):\n",
    "            return (\n",
    "                A[0, y, x, 0].astype(\"uint32\")\n",
    "                | (A[0, y, x, 1].astype(\"uint32\") << 8)\n",
    "                | (A[0, y, x, 2].astype(\"uint32\") << 16)\n",
    "                | tvm.tir.const(255 << 24, \"uint32\")\n",
    "            )\n",
    "\n",
    "        return te.compute((1024, 1024), fcompute, name=\"image_to_rgba\")\n",
    "\n",
    "    bb = relax.BlockBuilder()\n",
    "    x = relax.Var(\"x\", R.Tensor([1, 1024, 1024, 3], \"float32\"))\n",
    "    with bb.function(\"image_to_rgba\", [x]):\n",
    "        image = bb.emit(\n",
    "            bb.call_te(f_image_to_rgba, x, primfunc_name_hint=\"tir_image_to_rgba\")\n",
    "        )\n",
    "        bb.emit_func_output(image)\n",
    "    return bb.get()"
   ]
  },
  {
   "cell_type": "markdown",
   "metadata": {},
   "source": [
    "# Sheduler"
   ]
  },
  {
   "cell_type": "code",
   "execution_count": 11,
   "metadata": {},
   "outputs": [],
   "source": [
    "def euler_ancestral_discrete_scheduler_steps() -> tvm.IRModule:\n",
    "    bb = relax.BlockBuilder()\n",
    "\n",
    "    # step, the function.\n",
    "    sample = relax.Var(\"sample\", R.Tensor((1, 4, 64, 64), \"float32\"))\n",
    "    model_output = relax.Var(\"model_output\", R.Tensor((1, 4, 64, 64), \"float32\"))\n",
    "    sigma_from = relax.Var(f\"sigma\", R.Tensor((), \"float32\"))\n",
    "    sigma_to = relax.Var(f\"sigma\", R.Tensor((), \"float32\"))\n",
    "    noise = relax.Var(\"noise\", R.Tensor((1, 4, 64, 64), \"float32\"))\n",
    "\n",
    "    with bb.function(\n",
    "        \"euler_ancestral_discrete_scheduler_step\",\n",
    "        [sample, model_output, sigma_from, sigma_to, noise],\n",
    "    ):\n",
    "        pred_original_sample = sample - sigma_from * model_output\n",
    "\n",
    "        sigma_up = (sigma_to**relax.const(2.0) * (sigma_from**relax.const(2.0) - sigma_to**relax.const(2.0)) / sigma_from**relax.const(2.0)) ** relax.const(0.5)\n",
    "        sigma_down = (sigma_to**relax.const(2.0) - sigma_up**relax.const(2.0)) ** relax.const(0.5)\n",
    "\n",
    "        derivative = (sample - pred_original_sample) / sigma_from\n",
    "\n",
    "        dt = sigma_down - sigma_from\n",
    "\n",
    "        prev_sample = sample + derivative * dt\n",
    "\n",
    "\n",
    "        prev_sample = bb.emit(\n",
    "            prev_sample + noise * sigma_up,\n",
    "            \"prev_sample\",\n",
    "        )\n",
    "        bb.emit_func_output(prev_sample)\n",
    "\n",
    "    return bb.get()"
   ]
  },
  {
   "cell_type": "code",
   "execution_count": 12,
   "metadata": {},
   "outputs": [],
   "source": [
    "def euler_ancestral_discrete_scheduler_scale() -> tvm.IRModule:\n",
    "    bb = relax.BlockBuilder()\n",
    "\n",
    "    # scale, the function.\n",
    "    sample = relax.Var(\"sample\", R.Tensor((2, 4, 128, 128), \"float32\"))\n",
    "    sigma = relax.Var(f\"sigma\", R.Tensor((), \"float32\"))\n",
    "\n",
    "    with bb.function(\n",
    "        \"euler_ancestral_discrete_scheduler_scale\",\n",
    "        [sample, sigma],\n",
    "    ):\n",
    "        scaled_latent_model_input = bb.emit(\n",
    "            sample / ((sigma** relax.const(2.0) + relax.const(1.0)) ** relax.const(0.5)),\n",
    "            \"scaled_latent_model_input\",\n",
    "        )\n",
    "        bb.emit_func_output(scaled_latent_model_input)\n",
    "\n",
    "    return bb.get()"
   ]
  },
  {
   "cell_type": "code",
   "execution_count": 13,
   "metadata": {},
   "outputs": [
    {
     "name": "stderr",
     "output_type": "stream",
     "text": [
      "The config attributes {'feature_extractor': [None, None], 'image_encoder': [None, None]} were passed to StableDiffusionXLPipeline, but are not expected and will be ignored. Please verify your model_index.json configuration file.\n",
      "Keyword arguments {'feature_extractor': [None, None], 'image_encoder': [None, None]} are not expected by StableDiffusionXLPipeline and will be ignored.\n",
      "The config attributes {'attention_type': 'default', 'dropout': 0.0, 'reverse_transformer_layers_per_block': None} were passed to UNet2DConditionModel, but are not expected and will be ignored. Please verify your config.json configuration file.\n",
      "The config attributes {'force_upcast': True} were passed to AutoencoderKL, but are not expected and will be ignored. Please verify your config.json configuration file.\n"
     ]
    }
   ],
   "source": [
    "pipe = DiffusionPipeline.from_pretrained(\"stabilityai/sdxl-turbo\")\n",
    "\n",
    "torch_dev_key = \"cpu\"\n",
    "\n",
    "clip = clip_to_text_embeddings(pipe)\n",
    "clip2 = clip_to_text_embeddings2(pipe)\n",
    "unet = unet_latents_to_noise_pred(pipe, torch_dev_key)\n",
    "vae = vae_to_image(pipe)\n",
    "concat_embeddings = concat_embeddings()\n",
    "concat_pool_embeddings = concat_pool_embeddings()\n",
    "concat_enocder_outputs = concat_enocder_outputs()\n",
    "image_to_rgba = image_to_rgba()\n",
    "# scheduler_step = euler_ancestral_discrete_scheduler_steps()\n",
    "# scheduler_scale = euler_ancestral_discrete_scheduler_scale()\n",
    "cat_latents = cat_latents()\n",
    "\n",
    "mod: tvm.IRModule = utils.merge_irmodules(\n",
    "    clip,\n",
    "    clip2,\n",
    "    unet,\n",
    "    cat_latents,\n",
    "    vae,\n",
    "    concat_embeddings,\n",
    "    concat_pool_embeddings,\n",
    "    concat_enocder_outputs,\n",
    "    image_to_rgba,\n",
    "    # scheduler_step,\n",
    "    # scheduler_scale,\n",
    ")"
   ]
  },
  {
   "cell_type": "code",
   "execution_count": 14,
   "metadata": {},
   "outputs": [],
   "source": [
    "mod, params = relax.frontend.detach_params(mod)"
   ]
  },
  {
   "cell_type": "code",
   "execution_count": 15,
   "metadata": {},
   "outputs": [
    {
     "name": "stderr",
     "output_type": "stream",
     "text": [
      "[01:44:10] /Users/guoyaol/tvm/include/tvm/topi/transform.h:1126: Warning: Fast mode segfaults when there are out-of-bounds indices. Make sure input indices are in bound\n",
      "[01:44:10] /Users/guoyaol/tvm/include/tvm/topi/transform.h:1126: Warning: Fast mode segfaults when there are out-of-bounds indices. Make sure input indices are in bound\n",
      "[01:44:11] /Users/guoyaol/tvm/include/tvm/topi/transform.h:1126: Warning: Fast mode segfaults when there are out-of-bounds indices. Make sure input indices are in bound\n",
      "[01:44:22] /Users/guoyaol/tvm/include/tvm/topi/transform.h:1126: Warning: Fast mode segfaults when there are out-of-bounds indices. Make sure input indices are in bound\n",
      "[01:44:22] /Users/guoyaol/tvm/include/tvm/topi/transform.h:1126: Warning: Fast mode segfaults when there are out-of-bounds indices. Make sure input indices are in bound\n"
     ]
    }
   ],
   "source": [
    "mod = relax.pipeline.get_pipeline()(mod)"
   ]
  },
  {
   "cell_type": "code",
   "execution_count": 16,
   "metadata": {},
   "outputs": [],
   "source": [
    "model_names = [\"clip\", \"clip2\", \"unet\", \"vae\"]\n",
    "scheduler_func_names = []\n",
    "entry_funcs = (\n",
    "    model_names + scheduler_func_names  + [\"image_to_rgba\", \"concat_embeddings\", \"concat_enocder_outputs\", \"concat_pool_embeddings\", \"cat_latents\"]\n",
    ")\n",
    "\n",
    "# Clean up unused parts of the IRModule.\n",
    "mod = relax.transform.DeadCodeElimination(entry_funcs)(mod)"
   ]
  },
  {
   "cell_type": "code",
   "execution_count": 17,
   "metadata": {},
   "outputs": [],
   "source": [
    "mod = relax.transform.LiftTransformParams()(mod)\n",
    "mod = relax.transform.BundleModelParams()(mod)"
   ]
  },
  {
   "cell_type": "code",
   "execution_count": 18,
   "metadata": {},
   "outputs": [],
   "source": [
    "mod_transform, mod_deploy = utils.split_transform_deploy_mod(\n",
    "    mod, model_names, entry_funcs\n",
    ")"
   ]
  },
  {
   "cell_type": "code",
   "execution_count": 19,
   "metadata": {},
   "outputs": [
    {
     "name": "stdout",
     "output_type": "stream",
     "text": [
      "In IRModule for build stage:\n",
      "unet_transform_params\n",
      "vae_transform_params\n",
      "clip2_transform_params\n",
      "clip_transform_params\n",
      "\n",
      "In IRModule for deployment stage:\n",
      "concat_embeddings\n",
      "clip2\n",
      "vae\n",
      "concat_pool_embeddings\n",
      "concat_enocder_outputs\n",
      "image_to_rgba\n",
      "clip\n",
      "unet\n",
      "cat_latents\n",
      "\n"
     ]
    }
   ],
   "source": [
    "def print_relax_funcnames(mod: tvm.IRModule):\n",
    "    for global_var, func in mod.functions.items():\n",
    "        if isinstance(func, relax.Function):\n",
    "            print(global_var.name_hint)\n",
    "    print()\n",
    "    \n",
    "print(\"In IRModule for build stage:\")\n",
    "print_relax_funcnames(mod_transform)\n",
    "\n",
    "print(\"In IRModule for deployment stage:\")\n",
    "print_relax_funcnames(mod_deploy)"
   ]
  },
  {
   "cell_type": "code",
   "execution_count": 20,
   "metadata": {},
   "outputs": [
    {
     "name": "stdout",
     "output_type": "stream",
     "text": [
      "Start storing to cache dist/params\n",
      "[2533/2533] saving clip2_516\n",
      "All finished, 231 total shards committed, record saved to dist/params/ndarray-cache.json\n",
      "Also saved a bf16 record to dist/params/ndarray-cache-b16.json\n"
     ]
    }
   ],
   "source": [
    "# Compute and save the scheduler constants.\n",
    "\n",
    "# trace.compute_save_scheduler_consts(artifact_path=\"dist\")\n",
    "#TODO: add this compute\n",
    "\n",
    "# Compute and save the models's weight parameters.\n",
    "new_params = utils.transform_params(mod_transform, params)\n",
    "utils.save_params(new_params, artifact_path=\"dist\")"
   ]
  },
  {
   "cell_type": "code",
   "execution_count": 21,
   "metadata": {},
   "outputs": [],
   "source": [
    "import pickle\n",
    "\n",
    "pickle.dump(mod_deploy, open(\"dist/before_scheduling.pkl\", \"wb\"))"
   ]
  },
  {
   "cell_type": "code",
   "execution_count": 22,
   "metadata": {},
   "outputs": [],
   "source": [
    "from tvm import meta_schedule as ms\n",
    "\n",
    "target = tvm.target.Target(\"apple/m2-gpu\")\n",
    "device = tvm.metal()\n",
    "\n",
    "with target, tvm.transform.PassContext(opt_level=3):\n",
    "    mod_deploy = tvm.tir.transform.DefaultGPUSchedule()(mod_deploy)\n",
    "# db = ms.database.create(work_dir=\"log_db_prune_main\")\n",
    "# with target, db, tvm.transform.PassContext(opt_level=3):\n",
    "#     mod_deploy = tvm.tir.transform.DefaultGPUSchedule()(mod_deploy)"
   ]
  },
  {
   "cell_type": "code",
   "execution_count": 23,
   "metadata": {},
   "outputs": [],
   "source": [
    "# from tvm import meta_schedule as ms\n",
    "\n",
    "# target = tvm.target.Target(\n",
    "#             \"webgpu\", host=\"llvm -mtriple=wasm32-unknown-unknown-wasm\"\n",
    "#         )\n",
    "\n",
    "# # with target, tvm.transform.PassContext(opt_level=3):\n",
    "# #     mod_deploy = tvm.tir.transform.DefaultGPUSchedule()(mod_deploy)\n",
    "# db = ms.database.create(work_dir=\"log_db_prune_main\")\n",
    "# with target, db, tvm.transform.PassContext(opt_level=3):\n",
    "#     mod_deploy = relax.transform.MetaScheduleApplyDatabase(enable_warning=True)(mod_deploy)\n",
    "#     mod_deploy = tvm.tir.transform.DefaultGPUSchedule()(mod_deploy)\n",
    "\n",
    "# ex = relax.build(mod=mod_deploy, target=target)\n",
    "# ex.export_library(\"dist/stable_diffusio_xl.wasm\")"
   ]
  },
  {
   "cell_type": "code",
   "execution_count": 24,
   "metadata": {},
   "outputs": [],
   "source": [
    "ex = relax.build(mod=mod_deploy, target=target)"
   ]
  },
  {
   "cell_type": "code",
   "execution_count": 25,
   "metadata": {},
   "outputs": [],
   "source": [
    "ex.export_library(\"dist/stable_diffusion.so\")"
   ]
  },
  {
   "cell_type": "markdown",
   "metadata": {},
   "source": [
    "# Load Back"
   ]
  },
  {
   "cell_type": "code",
   "execution_count": null,
   "metadata": {},
   "outputs": [],
   "source": [
    "# Load the model weight parameters back.\n",
    "target = tvm.target.Target(\"cuda\")\n",
    "device = tvm.cuda()\n",
    "const_params_dict = utils.load_params(artifact_path=\"dist\", device=device)\n",
    "# Load the model executable back from the shared library.\n",
    "ex = tvm.runtime.load_module(\"dist/stable_diffusion.so\")"
   ]
  },
  {
   "cell_type": "code",
   "execution_count": null,
   "metadata": {},
   "outputs": [],
   "source": [
    "vm = relax.VirtualMachine(rt_mod=ex, device=device)"
   ]
  },
  {
   "cell_type": "code",
   "execution_count": null,
   "metadata": {},
   "outputs": [],
   "source": [
    "def wrapper(f, params):\n",
    "    def wrapped_f(*args):\n",
    "        return f(*args, params)\n",
    "\n",
    "    return wrapped_f"
   ]
  },
  {
   "cell_type": "code",
   "execution_count": null,
   "metadata": {},
   "outputs": [],
   "source": [
    "import json\n",
    "import numpy as np\n",
    "\n",
    "from web_stable_diffusion import runtime\n",
    "\n",
    "\n",
    "class EulerDiscreteScheduler(runtime.Scheduler):\n",
    "    scheduler_name = \"euler-discrete-solver\"\n",
    "\n",
    "    def __init__(self, artifact_path: str, device) -> None:\n",
    "        with open(\n",
    "            f\"{artifact_path}/scheduler_euler_discrete_consts.json\", \"r\"\n",
    "        ) as file:\n",
    "            jsoncontent = file.read()\n",
    "        scheduler_consts = json.loads(jsoncontent)\n",
    "\n",
    "        def f_convert(data, dtype):\n",
    "            return [tvm.nd.array(np.array(t, dtype=dtype), device) for t in data]\n",
    "\n",
    "        self.timesteps = f_convert(scheduler_consts[\"timesteps\"], \"int32\")\n",
    "        self.sigma = f_convert(scheduler_consts[\"sigma\"], \"float32\")\n",
    "\n",
    "        # self.last_model_output: tvm.nd.NDArray = tvm.nd.empty(\n",
    "        #     (1, 4, 64, 64), \"float32\", device\n",
    "        # )\n",
    "\n",
    "    def step(\n",
    "        self,\n",
    "        vm: relax.VirtualMachine,\n",
    "        model_output: tvm.nd.NDArray,\n",
    "        sample: tvm.nd.NDArray,\n",
    "        counter: int,\n",
    "    ) -> tvm.nd.NDArray:\n",
    "        # model_output = vm[\"dpm_solver_multistep_scheduler_convert_model_output\"](\n",
    "        #     sample, model_output, self.alpha[counter], self.sigma[counter]\n",
    "        # )\n",
    "        prev_latents = vm[\"euler_discrete_scheduler_step\"](\n",
    "            sample,\n",
    "            model_output,\n",
    "            self.sigma[counter],\n",
    "            self.sigma[counter+1]\n",
    "        )\n",
    "        # self.last_model_output = model_output\n",
    "        return prev_latents\n",
    "    \n",
    "    def scale_model_input(self, vm, sample: tvm.nd.NDArray, counter) -> tvm.nd.NDArray:\n",
    "        result = vm[\"euler_discrete_scheduler_scale\"](sample, self.sigma[counter])\n",
    "        return result"
   ]
  },
  {
   "cell_type": "markdown",
   "metadata": {},
   "source": [
    "# Stable Diffusion XL pipeline"
   ]
  },
  {
   "cell_type": "code",
   "execution_count": null,
   "metadata": {},
   "outputs": [],
   "source": [
    "from PIL import Image\n",
    "from tqdm import tqdm\n",
    "from transformers import CLIPTokenizer\n",
    "\n",
    "\n",
    "class TVMSDPipeline:\n",
    "    def __init__(\n",
    "        self,\n",
    "        vm: relax.VirtualMachine,\n",
    "        tokenizer: CLIPTokenizer,\n",
    "        tokenizer2: CLIPTokenizer,\n",
    "        scheduler: runtime.Scheduler,\n",
    "        tvm_device,\n",
    "        param_dict,\n",
    "    ):\n",
    "        def wrapper(f, params):\n",
    "            def wrapped_f(*args):\n",
    "                return f(*args, params)\n",
    "\n",
    "            return wrapped_f\n",
    "\n",
    "        self.vm = vm\n",
    "        self.clip_to_text_embeddings = wrapper(vm[\"clip\"], param_dict[\"clip\"])\n",
    "        self.clip_to_text_embeddings2 = wrapper(vm[\"clip2\"], param_dict[\"clip2\"])\n",
    "        self.unet_latents_to_noise_pred = wrapper(vm[\"unet\"], param_dict[\"unet\"])\n",
    "        self.vae_to_image = wrapper(vm[\"vae\"], param_dict[\"vae\"])\n",
    "        self.concat_embeddings = vm[\"concat_embeddings\"]\n",
    "        self.concat_enocder_outputs = vm[\"concat_enocder_outputs\"]\n",
    "        self.concat_pool_embeddings = vm[\"concat_pool_embeddings\"]\n",
    "        self.image_to_rgba = vm[\"image_to_rgba\"]\n",
    "        self.tokenizer = tokenizer\n",
    "        self.tokenizer2 = tokenizer2\n",
    "        self.scheduler = scheduler\n",
    "        self.tvm_device = tvm_device\n",
    "        self.param_dict = param_dict\n",
    "\n",
    "    def __call__(self, prompt: str, negative_prompt: str = \"\"):\n",
    "        # The height and width are fixed to 512.\n",
    "\n",
    "        # Compute the embeddings for the prompt and negative prompt.\n",
    "        list_text_embeddings = []\n",
    "\n",
    "        tokenizers = [self.tokenizer, self.tokenizer2]\n",
    "        text_encoders = [self.clip_to_text_embeddings, self.clip_to_text_embeddings2]\n",
    "\n",
    "        #prompt\n",
    "        for tokenizer, text_encoder in zip(tokenizers, text_encoders):\n",
    "            text_inputs = tokenizer(\n",
    "                    prompt,\n",
    "                    padding=\"max_length\",\n",
    "                    max_length=tokenizer.model_max_length,\n",
    "                    truncation=True,\n",
    "                    return_tensors=\"pt\",\n",
    "                )\n",
    "            text_input_ids = text_inputs.input_ids.to(torch.int32)\n",
    "            # Clip the text if the length exceeds the maximum allowed length.\n",
    "            if text_input_ids.shape[-1] > self.tokenizer.model_max_length:\n",
    "                text_input_ids = text_input_ids[:, : self.tokenizer.model_max_length]\n",
    "\n",
    "            # Compute text embeddings.\n",
    "            text_input_ids = tvm.nd.array(text_input_ids.cpu().numpy(), self.tvm_device)\n",
    "            clip_output = text_encoder(text_input_ids)\n",
    "            text_embeddings = clip_output[0]\n",
    "            pooled_prompt_embeds = clip_output[1]\n",
    "\n",
    "        \n",
    "        #negative prompt\n",
    "\n",
    "\n",
    "\n",
    "\n",
    "        # for text in [negative_prompt, prompt]:\n",
    "        #     text = [text]\n",
    "        #     # Tokenize the text.\n",
    "        #     text_inputs = self.tokenizer(\n",
    "        #         text,\n",
    "        #         padding=\"max_length\",\n",
    "        #         max_length=self.tokenizer.model_max_length,  # 77\n",
    "        #         return_tensors=\"pt\",\n",
    "        #     )\n",
    "        #     text_input_ids = text_inputs.input_ids.to(torch.int32)\n",
    "        #     # Clip the text if the length exceeds the maximum allowed length.\n",
    "        #     if text_input_ids.shape[-1] > self.tokenizer.model_max_length:\n",
    "        #         text_input_ids = text_input_ids[:, : self.tokenizer.model_max_length]\n",
    "\n",
    "        #     # Compute text embeddings.\n",
    "        #     text_input_ids = tvm.nd.array(text_input_ids.cpu().numpy(), self.tvm_device)\n",
    "        #     clip_output = self.clip_to_text_embeddings(text_input_ids)\n",
    "        #     text_embeddings = clip_output[0]\n",
    "        #     pooled_prompt_embeds = clip_output[1]\n",
    "\n",
    "        #     list_text_embeddings.append(text_embeddings)\n",
    "\n",
    "        # #TODO convert data to tvm.nd.array, fold into TVM\n",
    "        # torch_template = torch.from_numpy(pooled_prompt_embeds.asnumpy())\n",
    "        # negative_pooled_prompt_embeds = torch.zeros_like(torch_template)\n",
    "        # negative_pooled_prompt_embeds = tvm.nd.array(negative_pooled_prompt_embeds, self.tvm_device)\n",
    "        # pooled_list_text_embeddings = [negative_pooled_prompt_embeds, pooled_prompt_embeds]\n",
    "\n",
    "        \n",
    "        # # Concatenate the text embeddings.\n",
    "        # text_embeddings = self.concat_embeddings(*list_text_embeddings)\n",
    "\n",
    "        # add_text_embeds = self.concat_embeddings(*pooled_list_text_embeddings)\n",
    "        # print(add_text_embeds.shape)\n",
    "\n",
    "        #TODO: check correct, fold into TVM\n",
    "        add_time_ids = torch.tensor([[1024., 1024., 0., 0., 1024., 1024.],[1024., 1024., 0., 0., 1024., 1024.]], dtype=torch.float32)\n",
    "        add_time_ids = tvm.nd.array(add_time_ids, self.tvm_device)\n",
    "\n",
    "\n",
    "        # Randomly initialize the latents.\n",
    "        latents = torch.randn(\n",
    "            (1, 4, 128, 128),\n",
    "            device=\"cpu\",\n",
    "            dtype=torch.float32,\n",
    "        )\n",
    "        latents = tvm.nd.array(latents.numpy(), self.tvm_device)\n",
    "\n",
    "        # UNet iteration.\n",
    "        for i in tqdm(range(len(self.scheduler.timesteps))):\n",
    "            #TODO: add this\n",
    "            #latent_model_input = self.scheduler.scale_model_input(latent_model_input, t)\n",
    "            t = self.scheduler.timesteps[i]\n",
    "            noise_pred = self.unet_latents_to_noise_pred(latents, t, text_embeddings, add_text_embeds, add_time_ids)\n",
    "            latents = self.scheduler.step(self.vm, noise_pred, latents, i)\n",
    "\n",
    "        # VAE decode.\n",
    "        image = self.vae_to_image(latents)\n",
    "\n",
    "        # Transform generated image to RGBA mode.\n",
    "        image = self.image_to_rgba(image)\n",
    "        return Image.fromarray(image.numpy().view(\"uint8\").reshape(1024, 1024, 4))"
   ]
  },
  {
   "cell_type": "code",
   "execution_count": null,
   "metadata": {},
   "outputs": [],
   "source": [
    "pipe = TVMSDPipeline(\n",
    "    vm=vm,\n",
    "    tokenizer=CLIPTokenizer.from_pretrained(\"openai/clip-vit-large-patch14\"),\n",
    "    tokenizer2=CLIPTokenizer.from_pretrained(\"openai/clip-vit-large-patch14\"),\n",
    "    scheduler=runtime.EulerDiscreteScheduler(artifact_path=\"dist\", device=device),\n",
    "    tvm_device=device,\n",
    "    param_dict=const_params_dict,\n",
    ")"
   ]
  },
  {
   "cell_type": "code",
   "execution_count": null,
   "metadata": {},
   "outputs": [],
   "source": [
    "import time\n",
    "\n",
    "prompt = \"Jellyfish floating in a forest\"\n",
    "\n",
    "start = time.time()\n",
    "image = pipe(prompt)\n",
    "end = time.time()\n",
    "\n",
    "print(f\"Time elapsed: {end - start} seconds.\")"
   ]
  },
  {
   "cell_type": "code",
   "execution_count": null,
   "metadata": {},
   "outputs": [],
   "source": []
  }
 ],
 "metadata": {
  "kernelspec": {
   "display_name": "sdxl",
   "language": "python",
   "name": "python3"
  },
  "language_info": {
   "codemirror_mode": {
    "name": "ipython",
    "version": 3
   },
   "file_extension": ".py",
   "mimetype": "text/x-python",
   "name": "python",
   "nbconvert_exporter": "python",
   "pygments_lexer": "ipython3",
   "version": "3.10.12"
  },
  "orig_nbformat": 4
 },
 "nbformat": 4,
 "nbformat_minor": 2
}
